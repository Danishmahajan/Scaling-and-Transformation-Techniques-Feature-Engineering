{
 "cells": [
  {
   "cell_type": "markdown",
   "id": "ae15a3cf",
   "metadata": {},
   "source": [
    "# Transformation of Features\n",
    "\n",
    "Why Transformation of Features Are Required?<br>\n",
    "\n",
    "1. Linear Regression---Gradient Descent ----Global Minima<br><br>\n",
    "2. Algorithms like KNN,K Means,Hierarichal Clustering--- Eucledian Distance<br>\n",
    "\n",
    "Every Point has some vectors and Direction<br>\n",
    "\n",
    "Deep Learning Techniques(Standardization, Scaling)<br>\n",
    "1.ANN--->GLobal Minima, Gradient<br>\n",
    "2.CNN<br>\n",
    "3.RNN<br>\n",
    "\n",
    "0-255 pixels"
   ]
  },
  {
   "cell_type": "markdown",
   "id": "bedadc7c",
   "metadata": {},
   "source": [
    "## Types Of Transformation\n",
    "1. Normalization And Standardization\n",
    "2. Scaling to Minimum And Maximum values\n",
    "3. Scaling To Median And Quantiles\n",
    "4. Guassian Transformation: (When data is not in normal/gaussian distribution)<br> \n",
    "   4(a) Logarithmic Transformation<br>\n",
    "   4(b) Reciprocal Trnasformation<br>\n",
    "   4(c) Square Root Transformation<br>\n",
    "   4(d) Exponential Trnasformation<br>\n",
    "   4(e) Box Cox Transformation<br>"
   ]
  },
  {
   "cell_type": "markdown",
   "id": "88f5a68f",
   "metadata": {},
   "source": [
    "# 1.Standardization(Why standardization?)\n",
    "Standardization comes into picture when features of input data set have large differences between their ranges, or simply when they are measured in different measurement units (e.g., Pounds, Meters, Miles … etc).\n",
    "\n",
    "We try to bring all the variables or features to a similar scale. standarisation means centering the variable at zero.\n",
    "z=(x-x_mean)/std"
   ]
  },
  {
   "cell_type": "code",
   "execution_count": 1,
   "id": "6cf3f9dd",
   "metadata": {},
   "outputs": [
    {
     "data": {
      "text/html": [
       "<div>\n",
       "<style scoped>\n",
       "    .dataframe tbody tr th:only-of-type {\n",
       "        vertical-align: middle;\n",
       "    }\n",
       "\n",
       "    .dataframe tbody tr th {\n",
       "        vertical-align: top;\n",
       "    }\n",
       "\n",
       "    .dataframe thead th {\n",
       "        text-align: right;\n",
       "    }\n",
       "</style>\n",
       "<table border=\"1\" class=\"dataframe\">\n",
       "  <thead>\n",
       "    <tr style=\"text-align: right;\">\n",
       "      <th></th>\n",
       "      <th>Survived</th>\n",
       "      <th>Pclass</th>\n",
       "      <th>Age</th>\n",
       "      <th>Fare</th>\n",
       "    </tr>\n",
       "  </thead>\n",
       "  <tbody>\n",
       "    <tr>\n",
       "      <th>0</th>\n",
       "      <td>0</td>\n",
       "      <td>3</td>\n",
       "      <td>22.0</td>\n",
       "      <td>7.2500</td>\n",
       "    </tr>\n",
       "    <tr>\n",
       "      <th>1</th>\n",
       "      <td>1</td>\n",
       "      <td>1</td>\n",
       "      <td>38.0</td>\n",
       "      <td>71.2833</td>\n",
       "    </tr>\n",
       "    <tr>\n",
       "      <th>2</th>\n",
       "      <td>1</td>\n",
       "      <td>3</td>\n",
       "      <td>26.0</td>\n",
       "      <td>7.9250</td>\n",
       "    </tr>\n",
       "    <tr>\n",
       "      <th>3</th>\n",
       "      <td>1</td>\n",
       "      <td>1</td>\n",
       "      <td>35.0</td>\n",
       "      <td>53.1000</td>\n",
       "    </tr>\n",
       "    <tr>\n",
       "      <th>4</th>\n",
       "      <td>0</td>\n",
       "      <td>3</td>\n",
       "      <td>35.0</td>\n",
       "      <td>8.0500</td>\n",
       "    </tr>\n",
       "  </tbody>\n",
       "</table>\n",
       "</div>"
      ],
      "text/plain": [
       "   Survived  Pclass   Age     Fare\n",
       "0         0       3  22.0   7.2500\n",
       "1         1       1  38.0  71.2833\n",
       "2         1       3  26.0   7.9250\n",
       "3         1       1  35.0  53.1000\n",
       "4         0       3  35.0   8.0500"
      ]
     },
     "execution_count": 1,
     "metadata": {},
     "output_type": "execute_result"
    }
   ],
   "source": [
    "import pandas as pd\n",
    "df=pd.read_csv('titanic_train.csv', usecols=['Pclass','Age','Fare','Survived'])\n",
    "df.head()"
   ]
  },
  {
   "cell_type": "code",
   "execution_count": 2,
   "id": "ba082a5b",
   "metadata": {},
   "outputs": [],
   "source": [
    "#replac NaN values with median\n",
    "df['Age'].fillna(df.Age.median(),inplace=True)"
   ]
  },
  {
   "cell_type": "code",
   "execution_count": 3,
   "id": "9f127b07",
   "metadata": {},
   "outputs": [
    {
     "data": {
      "text/plain": [
       "Survived    0\n",
       "Pclass      0\n",
       "Age         0\n",
       "Fare        0\n",
       "dtype: int64"
      ]
     },
     "execution_count": 3,
     "metadata": {},
     "output_type": "execute_result"
    }
   ],
   "source": [
    "df.isnull().sum()"
   ]
  },
  {
   "cell_type": "markdown",
   "id": "952ee8ab",
   "metadata": {},
   "source": [
    "### (i) TRANSFORMING THE WHOLE DATASET FOR VISUALIZATION PURPOSE"
   ]
  },
  {
   "cell_type": "code",
   "execution_count": 4,
   "id": "efcb3c7c",
   "metadata": {},
   "outputs": [],
   "source": [
    "#### standarisation: We use the Standardscaler from sklearn library\n",
    "from sklearn.preprocessing import StandardScaler\n",
    "scaling=StandardScaler()\n",
    "df_scaled=scaling.fit_transform(df)"
   ]
  },
  {
   "cell_type": "code",
   "execution_count": 5,
   "id": "37d0acc5",
   "metadata": {},
   "outputs": [
    {
     "data": {
      "text/html": [
       "<div>\n",
       "<style scoped>\n",
       "    .dataframe tbody tr th:only-of-type {\n",
       "        vertical-align: middle;\n",
       "    }\n",
       "\n",
       "    .dataframe tbody tr th {\n",
       "        vertical-align: top;\n",
       "    }\n",
       "\n",
       "    .dataframe thead th {\n",
       "        text-align: right;\n",
       "    }\n",
       "</style>\n",
       "<table border=\"1\" class=\"dataframe\">\n",
       "  <thead>\n",
       "    <tr style=\"text-align: right;\">\n",
       "      <th></th>\n",
       "      <th>0</th>\n",
       "      <th>1</th>\n",
       "      <th>2</th>\n",
       "      <th>3</th>\n",
       "    </tr>\n",
       "  </thead>\n",
       "  <tbody>\n",
       "    <tr>\n",
       "      <th>0</th>\n",
       "      <td>-0.789272</td>\n",
       "      <td>0.827377</td>\n",
       "      <td>-0.565736</td>\n",
       "      <td>-0.502445</td>\n",
       "    </tr>\n",
       "    <tr>\n",
       "      <th>1</th>\n",
       "      <td>1.266990</td>\n",
       "      <td>-1.566107</td>\n",
       "      <td>0.663861</td>\n",
       "      <td>0.786845</td>\n",
       "    </tr>\n",
       "    <tr>\n",
       "      <th>2</th>\n",
       "      <td>1.266990</td>\n",
       "      <td>0.827377</td>\n",
       "      <td>-0.258337</td>\n",
       "      <td>-0.488854</td>\n",
       "    </tr>\n",
       "    <tr>\n",
       "      <th>3</th>\n",
       "      <td>1.266990</td>\n",
       "      <td>-1.566107</td>\n",
       "      <td>0.433312</td>\n",
       "      <td>0.420730</td>\n",
       "    </tr>\n",
       "    <tr>\n",
       "      <th>4</th>\n",
       "      <td>-0.789272</td>\n",
       "      <td>0.827377</td>\n",
       "      <td>0.433312</td>\n",
       "      <td>-0.486337</td>\n",
       "    </tr>\n",
       "    <tr>\n",
       "      <th>...</th>\n",
       "      <td>...</td>\n",
       "      <td>...</td>\n",
       "      <td>...</td>\n",
       "      <td>...</td>\n",
       "    </tr>\n",
       "    <tr>\n",
       "      <th>886</th>\n",
       "      <td>-0.789272</td>\n",
       "      <td>-0.369365</td>\n",
       "      <td>-0.181487</td>\n",
       "      <td>-0.386671</td>\n",
       "    </tr>\n",
       "    <tr>\n",
       "      <th>887</th>\n",
       "      <td>1.266990</td>\n",
       "      <td>-1.566107</td>\n",
       "      <td>-0.796286</td>\n",
       "      <td>-0.044381</td>\n",
       "    </tr>\n",
       "    <tr>\n",
       "      <th>888</th>\n",
       "      <td>-0.789272</td>\n",
       "      <td>0.827377</td>\n",
       "      <td>-0.104637</td>\n",
       "      <td>-0.176263</td>\n",
       "    </tr>\n",
       "    <tr>\n",
       "      <th>889</th>\n",
       "      <td>1.266990</td>\n",
       "      <td>-1.566107</td>\n",
       "      <td>-0.258337</td>\n",
       "      <td>-0.044381</td>\n",
       "    </tr>\n",
       "    <tr>\n",
       "      <th>890</th>\n",
       "      <td>-0.789272</td>\n",
       "      <td>0.827377</td>\n",
       "      <td>0.202762</td>\n",
       "      <td>-0.492378</td>\n",
       "    </tr>\n",
       "  </tbody>\n",
       "</table>\n",
       "<p>891 rows × 4 columns</p>\n",
       "</div>"
      ],
      "text/plain": [
       "            0         1         2         3\n",
       "0   -0.789272  0.827377 -0.565736 -0.502445\n",
       "1    1.266990 -1.566107  0.663861  0.786845\n",
       "2    1.266990  0.827377 -0.258337 -0.488854\n",
       "3    1.266990 -1.566107  0.433312  0.420730\n",
       "4   -0.789272  0.827377  0.433312 -0.486337\n",
       "..        ...       ...       ...       ...\n",
       "886 -0.789272 -0.369365 -0.181487 -0.386671\n",
       "887  1.266990 -1.566107 -0.796286 -0.044381\n",
       "888 -0.789272  0.827377 -0.104637 -0.176263\n",
       "889  1.266990 -1.566107 -0.258337 -0.044381\n",
       "890 -0.789272  0.827377  0.202762 -0.492378\n",
       "\n",
       "[891 rows x 4 columns]"
      ]
     },
     "execution_count": 5,
     "metadata": {},
     "output_type": "execute_result"
    }
   ],
   "source": [
    "pd.DataFrame(df_scaled)"
   ]
  },
  {
   "cell_type": "code",
   "execution_count": 6,
   "id": "3d183eea",
   "metadata": {},
   "outputs": [],
   "source": [
    "import matplotlib.pyplot as plt\n",
    "%matplotlib inline"
   ]
  },
  {
   "cell_type": "code",
   "execution_count": 7,
   "id": "7f6e72fa",
   "metadata": {},
   "outputs": [
    {
     "data": {
      "text/plain": [
       "array([[-0.78927234,  0.82737724, -0.56573646, -0.50244517],\n",
       "       [ 1.2669898 , -1.56610693,  0.66386103,  0.78684529],\n",
       "       [ 1.2669898 ,  0.82737724, -0.25833709, -0.48885426],\n",
       "       ...,\n",
       "       [-0.78927234,  0.82737724, -0.1046374 , -0.17626324],\n",
       "       [ 1.2669898 , -1.56610693, -0.25833709, -0.04438104],\n",
       "       [-0.78927234,  0.82737724,  0.20276197, -0.49237783]])"
      ]
     },
     "execution_count": 7,
     "metadata": {},
     "output_type": "execute_result"
    }
   ],
   "source": [
    "df_scaled"
   ]
  },
  {
   "cell_type": "code",
   "execution_count": 8,
   "id": "ce96dda9",
   "metadata": {},
   "outputs": [
    {
     "data": {
      "text/plain": [
       "Text(0.5, 1.0, 'P Class Before Scaled')"
      ]
     },
     "execution_count": 8,
     "metadata": {},
     "output_type": "execute_result"
    },
    {
     "data": {
      "image/png": "[encoded data removed]",
      "text/plain": [
       "<Figure size 432x288 with 1 Axes>"
      ]
     },
     "metadata": {
      "needs_background": "light"
     },
     "output_type": "display_data"
    }
   ],
   "source": [
    "plt.hist(df['Pclass'],bins=20,color='crimson')     #For Age feature\n",
    "plt.title('P Class Before Scaled')"
   ]
  },
  {
   "cell_type": "code",
   "execution_count": 9,
   "id": "69efb8d3",
   "metadata": {
    "scrolled": true
   },
   "outputs": [
    {
     "data": {
      "text/plain": [
       "Text(0.5, 1.0, 'P Class After Scaled')"
      ]
     },
     "execution_count": 9,
     "metadata": {},
     "output_type": "execute_result"
    },
    {
     "data": {
      "image/png": "[encoded data removed]",
      "text/plain": [
       "<Figure size 432x288 with 1 Axes>"
      ]
     },
     "metadata": {
      "needs_background": "light"
     },
     "output_type": "display_data"
    }
   ],
   "source": [
    "plt.hist(df_scaled[:,1],bins=20,color='crimson')  #For  Pclass\n",
    "plt.title('P Class After Scaled')"
   ]
  },
  {
   "cell_type": "code",
   "execution_count": 10,
   "id": "c97b0928",
   "metadata": {
    "scrolled": true
   },
   "outputs": [
    {
     "data": {
      "text/plain": [
       "Text(0.5, 1.0, 'Age Before Scaled')"
      ]
     },
     "execution_count": 10,
     "metadata": {},
     "output_type": "execute_result"
    },
    {
     "data": {
      "image/png": "[encoded data removed]",
      "text/plain": [
       "<Figure size 432x288 with 1 Axes>"
      ]
     },
     "metadata": {
      "needs_background": "light"
     },
     "output_type": "display_data"
    }
   ],
   "source": [
    "plt.hist(df['Age'],bins=20,color='seagreen')     #For Age feature\n",
    "plt.title('Age Before Scaled')"
   ]
  },
  {
   "cell_type": "code",
   "execution_count": 11,
   "id": "b9c9092b",
   "metadata": {},
   "outputs": [
    {
     "data": {
      "text/plain": [
       "Text(0.5, 1.0, 'Age After Scaled')"
      ]
     },
     "execution_count": 11,
     "metadata": {},
     "output_type": "execute_result"
    },
    {
     "data": {
      "image/png": "[encoded data removed]",
      "text/plain": [
       "<Figure size 432x288 with 1 Axes>"
      ]
     },
     "metadata": {
      "needs_background": "light"
     },
     "output_type": "display_data"
    }
   ],
   "source": [
    "plt.hist(df_scaled[:,2],bins=20,color='seagreen')     #For Age feature\n",
    "plt.title('Age After Scaled')"
   ]
  },
  {
   "cell_type": "code",
   "execution_count": 12,
   "id": "c69cd45f",
   "metadata": {},
   "outputs": [
    {
     "data": {
      "text/plain": [
       "Text(0.5, 1.0, 'Fare Before Scaled')"
      ]
     },
     "execution_count": 12,
     "metadata": {},
     "output_type": "execute_result"
    },
    {
     "data": {
      "image/png": "[encoded data removed]",
      "text/plain": [
       "<Figure size 432x288 with 1 Axes>"
      ]
     },
     "metadata": {
      "needs_background": "light"
     },
     "output_type": "display_data"
    }
   ],
   "source": [
    "plt.hist(df['Fare'],bins=20,color='darkorchid')   # Original fare DataFrame(not scaled)\n",
    "plt.title('Fare Before Scaled')"
   ]
  },
  {
   "cell_type": "code",
   "execution_count": 13,
   "id": "0da5f718",
   "metadata": {},
   "outputs": [
    {
     "data": {
      "text/plain": [
       "Text(0.5, 1.0, 'Fare After Scaled')"
      ]
     },
     "execution_count": 13,
     "metadata": {},
     "output_type": "execute_result"
    },
    {
     "data": {
      "image/png": "[encoded data removed]",
      "text/plain": [
       "<Figure size 432x288 with 1 Axes>"
      ]
     },
     "metadata": {
      "needs_background": "light"
     },
     "output_type": "display_data"
    }
   ],
   "source": [
    "plt.hist(df_scaled[:,3],bins=20,color='darkorchid')     # For fare feature\n",
    "plt.title('Fare After Scaled')"
   ]
  },
  {
   "cell_type": "markdown",
   "id": "53a9afed",
   "metadata": {},
   "source": [
    "## (ii) For Model Purpose"
   ]
  },
  {
   "cell_type": "code",
   "execution_count": 14,
   "id": "a96ea97a",
   "metadata": {},
   "outputs": [],
   "source": [
    "#Separating the independent and dependent features\n",
    "x=df.iloc[:,1:]\n",
    "y=df.iloc[:,0]"
   ]
  },
  {
   "cell_type": "code",
   "execution_count": 15,
   "id": "47deecb0",
   "metadata": {},
   "outputs": [
    {
     "data": {
      "text/html": [
       "<div>\n",
       "<style scoped>\n",
       "    .dataframe tbody tr th:only-of-type {\n",
       "        vertical-align: middle;\n",
       "    }\n",
       "\n",
       "    .dataframe tbody tr th {\n",
       "        vertical-align: top;\n",
       "    }\n",
       "\n",
       "    .dataframe thead th {\n",
       "        text-align: right;\n",
       "    }\n",
       "</style>\n",
       "<table border=\"1\" class=\"dataframe\">\n",
       "  <thead>\n",
       "    <tr style=\"text-align: right;\">\n",
       "      <th></th>\n",
       "      <th>Pclass</th>\n",
       "      <th>Age</th>\n",
       "      <th>Fare</th>\n",
       "    </tr>\n",
       "  </thead>\n",
       "  <tbody>\n",
       "    <tr>\n",
       "      <th>0</th>\n",
       "      <td>3</td>\n",
       "      <td>22.0</td>\n",
       "      <td>7.2500</td>\n",
       "    </tr>\n",
       "    <tr>\n",
       "      <th>1</th>\n",
       "      <td>1</td>\n",
       "      <td>38.0</td>\n",
       "      <td>71.2833</td>\n",
       "    </tr>\n",
       "    <tr>\n",
       "      <th>2</th>\n",
       "      <td>3</td>\n",
       "      <td>26.0</td>\n",
       "      <td>7.9250</td>\n",
       "    </tr>\n",
       "    <tr>\n",
       "      <th>3</th>\n",
       "      <td>1</td>\n",
       "      <td>35.0</td>\n",
       "      <td>53.1000</td>\n",
       "    </tr>\n",
       "    <tr>\n",
       "      <th>4</th>\n",
       "      <td>3</td>\n",
       "      <td>35.0</td>\n",
       "      <td>8.0500</td>\n",
       "    </tr>\n",
       "    <tr>\n",
       "      <th>...</th>\n",
       "      <td>...</td>\n",
       "      <td>...</td>\n",
       "      <td>...</td>\n",
       "    </tr>\n",
       "    <tr>\n",
       "      <th>886</th>\n",
       "      <td>2</td>\n",
       "      <td>27.0</td>\n",
       "      <td>13.0000</td>\n",
       "    </tr>\n",
       "    <tr>\n",
       "      <th>887</th>\n",
       "      <td>1</td>\n",
       "      <td>19.0</td>\n",
       "      <td>30.0000</td>\n",
       "    </tr>\n",
       "    <tr>\n",
       "      <th>888</th>\n",
       "      <td>3</td>\n",
       "      <td>28.0</td>\n",
       "      <td>23.4500</td>\n",
       "    </tr>\n",
       "    <tr>\n",
       "      <th>889</th>\n",
       "      <td>1</td>\n",
       "      <td>26.0</td>\n",
       "      <td>30.0000</td>\n",
       "    </tr>\n",
       "    <tr>\n",
       "      <th>890</th>\n",
       "      <td>3</td>\n",
       "      <td>32.0</td>\n",
       "      <td>7.7500</td>\n",
       "    </tr>\n",
       "  </tbody>\n",
       "</table>\n",
       "<p>891 rows × 3 columns</p>\n",
       "</div>"
      ],
      "text/plain": [
       "     Pclass   Age     Fare\n",
       "0         3  22.0   7.2500\n",
       "1         1  38.0  71.2833\n",
       "2         3  26.0   7.9250\n",
       "3         1  35.0  53.1000\n",
       "4         3  35.0   8.0500\n",
       "..      ...   ...      ...\n",
       "886       2  27.0  13.0000\n",
       "887       1  19.0  30.0000\n",
       "888       3  28.0  23.4500\n",
       "889       1  26.0  30.0000\n",
       "890       3  32.0   7.7500\n",
       "\n",
       "[891 rows x 3 columns]"
      ]
     },
     "execution_count": 15,
     "metadata": {},
     "output_type": "execute_result"
    }
   ],
   "source": [
    "x # Printing the x  # Independent Data"
   ]
  },
  {
   "cell_type": "code",
   "execution_count": 16,
   "id": "cde61c44",
   "metadata": {
    "scrolled": true
   },
   "outputs": [
    {
     "data": {
      "text/plain": [
       "0      0\n",
       "1      1\n",
       "2      1\n",
       "3      1\n",
       "4      0\n",
       "      ..\n",
       "886    0\n",
       "887    1\n",
       "888    0\n",
       "889    1\n",
       "890    0\n",
       "Name: Survived, Length: 891, dtype: int64"
      ]
     },
     "execution_count": 16,
     "metadata": {},
     "output_type": "execute_result"
    }
   ],
   "source": [
    "y #Dependent data"
   ]
  },
  {
   "cell_type": "code",
   "execution_count": 17,
   "id": "86ddc42f",
   "metadata": {},
   "outputs": [],
   "source": [
    "from sklearn.model_selection import train_test_split\n",
    "x_train, x_test, y_train, y_test = train_test_split(x, y, test_size=0.33, random_state=42)"
   ]
  },
  {
   "cell_type": "code",
   "execution_count": 18,
   "id": "bd05f7a5",
   "metadata": {},
   "outputs": [
    {
     "data": {
      "text/html": [
       "<div>\n",
       "<style scoped>\n",
       "    .dataframe tbody tr th:only-of-type {\n",
       "        vertical-align: middle;\n",
       "    }\n",
       "\n",
       "    .dataframe tbody tr th {\n",
       "        vertical-align: top;\n",
       "    }\n",
       "\n",
       "    .dataframe thead th {\n",
       "        text-align: right;\n",
       "    }\n",
       "</style>\n",
       "<table border=\"1\" class=\"dataframe\">\n",
       "  <thead>\n",
       "    <tr style=\"text-align: right;\">\n",
       "      <th></th>\n",
       "      <th>Pclass</th>\n",
       "      <th>Age</th>\n",
       "      <th>Fare</th>\n",
       "    </tr>\n",
       "  </thead>\n",
       "  <tbody>\n",
       "    <tr>\n",
       "      <th>6</th>\n",
       "      <td>1</td>\n",
       "      <td>54.0</td>\n",
       "      <td>51.8625</td>\n",
       "    </tr>\n",
       "    <tr>\n",
       "      <th>718</th>\n",
       "      <td>3</td>\n",
       "      <td>28.0</td>\n",
       "      <td>15.5000</td>\n",
       "    </tr>\n",
       "    <tr>\n",
       "      <th>685</th>\n",
       "      <td>2</td>\n",
       "      <td>25.0</td>\n",
       "      <td>41.5792</td>\n",
       "    </tr>\n",
       "    <tr>\n",
       "      <th>73</th>\n",
       "      <td>3</td>\n",
       "      <td>26.0</td>\n",
       "      <td>14.4542</td>\n",
       "    </tr>\n",
       "    <tr>\n",
       "      <th>882</th>\n",
       "      <td>3</td>\n",
       "      <td>22.0</td>\n",
       "      <td>10.5167</td>\n",
       "    </tr>\n",
       "    <tr>\n",
       "      <th>...</th>\n",
       "      <td>...</td>\n",
       "      <td>...</td>\n",
       "      <td>...</td>\n",
       "    </tr>\n",
       "    <tr>\n",
       "      <th>106</th>\n",
       "      <td>3</td>\n",
       "      <td>21.0</td>\n",
       "      <td>7.6500</td>\n",
       "    </tr>\n",
       "    <tr>\n",
       "      <th>270</th>\n",
       "      <td>1</td>\n",
       "      <td>28.0</td>\n",
       "      <td>31.0000</td>\n",
       "    </tr>\n",
       "    <tr>\n",
       "      <th>860</th>\n",
       "      <td>3</td>\n",
       "      <td>41.0</td>\n",
       "      <td>14.1083</td>\n",
       "    </tr>\n",
       "    <tr>\n",
       "      <th>435</th>\n",
       "      <td>1</td>\n",
       "      <td>14.0</td>\n",
       "      <td>120.0000</td>\n",
       "    </tr>\n",
       "    <tr>\n",
       "      <th>102</th>\n",
       "      <td>1</td>\n",
       "      <td>21.0</td>\n",
       "      <td>77.2875</td>\n",
       "    </tr>\n",
       "  </tbody>\n",
       "</table>\n",
       "<p>596 rows × 3 columns</p>\n",
       "</div>"
      ],
      "text/plain": [
       "     Pclass   Age      Fare\n",
       "6         1  54.0   51.8625\n",
       "718       3  28.0   15.5000\n",
       "685       2  25.0   41.5792\n",
       "73        3  26.0   14.4542\n",
       "882       3  22.0   10.5167\n",
       "..      ...   ...       ...\n",
       "106       3  21.0    7.6500\n",
       "270       1  28.0   31.0000\n",
       "860       3  41.0   14.1083\n",
       "435       1  14.0  120.0000\n",
       "102       1  21.0   77.2875\n",
       "\n",
       "[596 rows x 3 columns]"
      ]
     },
     "execution_count": 18,
     "metadata": {},
     "output_type": "execute_result"
    }
   ],
   "source": [
    "x_train # Printing the  Independent Training Data"
   ]
  },
  {
   "cell_type": "code",
   "execution_count": 19,
   "id": "406b9ecf",
   "metadata": {},
   "outputs": [],
   "source": [
    "#### standarisation: We use the Standardscaler from sklearn library\n",
    "from sklearn.preprocessing import StandardScaler"
   ]
  },
  {
   "cell_type": "code",
   "execution_count": 20,
   "id": "c0124228",
   "metadata": {},
   "outputs": [],
   "source": [
    "### fit vs fit_transform\n",
    "#fit is used to give data to machine algorithm without any change.\n",
    "#fit_transform modifies the data and then gives it to the machine algorithm.\n",
    "scaler=StandardScaler()\n",
    "x_train_scaled=pd.DataFrame(scaler.fit_transform(x_train),columns=['Pclass','Age','Fare'])"
   ]
  },
  {
   "cell_type": "code",
   "execution_count": 21,
   "id": "0a7a91b6",
   "metadata": {},
   "outputs": [
    {
     "data": {
      "text/html": [
       "<div>\n",
       "<style scoped>\n",
       "    .dataframe tbody tr th:only-of-type {\n",
       "        vertical-align: middle;\n",
       "    }\n",
       "\n",
       "    .dataframe tbody tr th {\n",
       "        vertical-align: top;\n",
       "    }\n",
       "\n",
       "    .dataframe thead th {\n",
       "        text-align: right;\n",
       "    }\n",
       "</style>\n",
       "<table border=\"1\" class=\"dataframe\">\n",
       "  <thead>\n",
       "    <tr style=\"text-align: right;\">\n",
       "      <th></th>\n",
       "      <th>Pclass</th>\n",
       "      <th>Age</th>\n",
       "      <th>Fare</th>\n",
       "    </tr>\n",
       "  </thead>\n",
       "  <tbody>\n",
       "    <tr>\n",
       "      <th>0</th>\n",
       "      <td>-1.625803</td>\n",
       "      <td>1.913493</td>\n",
       "      <td>0.387842</td>\n",
       "    </tr>\n",
       "    <tr>\n",
       "      <th>1</th>\n",
       "      <td>0.805762</td>\n",
       "      <td>-0.094520</td>\n",
       "      <td>-0.319081</td>\n",
       "    </tr>\n",
       "    <tr>\n",
       "      <th>2</th>\n",
       "      <td>-0.410021</td>\n",
       "      <td>-0.326214</td>\n",
       "      <td>0.187924</td>\n",
       "    </tr>\n",
       "    <tr>\n",
       "      <th>3</th>\n",
       "      <td>0.805762</td>\n",
       "      <td>-0.248983</td>\n",
       "      <td>-0.339412</td>\n",
       "    </tr>\n",
       "    <tr>\n",
       "      <th>4</th>\n",
       "      <td>0.805762</td>\n",
       "      <td>-0.557908</td>\n",
       "      <td>-0.415961</td>\n",
       "    </tr>\n",
       "    <tr>\n",
       "      <th>...</th>\n",
       "      <td>...</td>\n",
       "      <td>...</td>\n",
       "      <td>...</td>\n",
       "    </tr>\n",
       "    <tr>\n",
       "      <th>591</th>\n",
       "      <td>0.805762</td>\n",
       "      <td>-0.635139</td>\n",
       "      <td>-0.471692</td>\n",
       "    </tr>\n",
       "    <tr>\n",
       "      <th>592</th>\n",
       "      <td>-1.625803</td>\n",
       "      <td>-0.094520</td>\n",
       "      <td>-0.017745</td>\n",
       "    </tr>\n",
       "    <tr>\n",
       "      <th>593</th>\n",
       "      <td>0.805762</td>\n",
       "      <td>0.909486</td>\n",
       "      <td>-0.346137</td>\n",
       "    </tr>\n",
       "    <tr>\n",
       "      <th>594</th>\n",
       "      <td>-1.625803</td>\n",
       "      <td>-1.175758</td>\n",
       "      <td>1.712501</td>\n",
       "    </tr>\n",
       "    <tr>\n",
       "      <th>595</th>\n",
       "      <td>-1.625803</td>\n",
       "      <td>-0.635139</td>\n",
       "      <td>0.882129</td>\n",
       "    </tr>\n",
       "  </tbody>\n",
       "</table>\n",
       "<p>596 rows × 3 columns</p>\n",
       "</div>"
      ],
      "text/plain": [
       "       Pclass       Age      Fare\n",
       "0   -1.625803  1.913493  0.387842\n",
       "1    0.805762 -0.094520 -0.319081\n",
       "2   -0.410021 -0.326214  0.187924\n",
       "3    0.805762 -0.248983 -0.339412\n",
       "4    0.805762 -0.557908 -0.415961\n",
       "..        ...       ...       ...\n",
       "591  0.805762 -0.635139 -0.471692\n",
       "592 -1.625803 -0.094520 -0.017745\n",
       "593  0.805762  0.909486 -0.346137\n",
       "594 -1.625803 -1.175758  1.712501\n",
       "595 -1.625803 -0.635139  0.882129\n",
       "\n",
       "[596 rows x 3 columns]"
      ]
     },
     "execution_count": 21,
     "metadata": {},
     "output_type": "execute_result"
    }
   ],
   "source": [
    "x_train_scaled"
   ]
  },
  {
   "cell_type": "code",
   "execution_count": 22,
   "id": "dc19514e",
   "metadata": {},
   "outputs": [],
   "source": [
    "# scaling the x_test data\n",
    "x_test_scaled=scaler.transform(x_test)"
   ]
  },
  {
   "cell_type": "code",
   "execution_count": 23,
   "id": "806fd053",
   "metadata": {},
   "outputs": [
    {
     "data": {
      "text/plain": [
       "array([[ 0.80576177, -0.09452019, -0.32402243],\n",
       "       [-0.41002054,  0.13717363, -0.4162854 ],\n",
       "       [ 0.80576177, -0.71237038, -0.46634591],\n",
       "       [-0.41002054, -1.79360821,  0.0211365 ],\n",
       "       [ 0.80576177, -1.17575802, -0.40186603],\n",
       "       [-1.62580285, -0.24898274,  0.91250512],\n",
       "       [ 0.80576177, -0.09452019, -0.46974808],\n",
       "       [ 0.80576177, -1.02129548, -0.2704781 ],\n",
       "       [ 0.80576177, -1.02129548, -0.46974808],\n",
       "       [-1.62580285, -0.78960166, -0.10944269],\n",
       "       [-1.62580285,  0.60056127,  0.41190006],\n",
       "       [ 0.80576177,  1.14118018, -0.46391578],\n",
       "       [ 0.80576177, -0.09452019, -0.12531819],\n",
       "       [ 0.80576177,  0.05994235, -0.47995459],\n",
       "       [-0.41002054,  0.52332999, -0.36768297],\n",
       "       [-1.62580285, -1.02129548,  0.14555873],\n",
       "       [-1.62580285,  0.98671764,  0.40128918],\n",
       "       [ 0.80576177, -0.09452019, -0.46820835],\n",
       "       [-0.41002054, -0.17175147, -0.36768297],\n",
       "       [-1.62580285,  1.372874  ,  0.39051499],\n",
       "       [ 0.80576177, -0.40344529, -0.46691358],\n",
       "       [-1.62580285,  0.36886745, -0.10425778],\n",
       "       [ 0.80576177, -0.78960166, -0.46772233],\n",
       "       [ 0.80576177, -0.71237038, -0.44107264],\n",
       "       [ 0.80576177, -0.09452019, -0.33852151],\n",
       "       [ 0.80576177, -1.48468312, -0.07801247],\n",
       "       [-1.62580285,  0.83225509, -0.08149629],\n",
       "       [-0.41002054,  0.13717363, -0.36768297],\n",
       "       [ 0.80576177, -1.94807076, -0.07801247],\n",
       "       [ 0.80576177,  0.13717363, -0.46772233],\n",
       "       [ 0.80576177, -0.78960166, -0.46691358],\n",
       "       [ 0.80576177, -0.55790784, -0.46974808],\n",
       "       [-1.62580285, -0.09452019, -0.02365939],\n",
       "       [ 0.80576177, -0.09452019, -0.47363627],\n",
       "       [ 0.80576177, -0.86683293, -0.46391578],\n",
       "       [ 0.80576177, -0.17175147, -0.3394119 ],\n",
       "       [-1.62580285, -0.09452019,  0.06973893],\n",
       "       [ 0.80576177, -0.09452019, -0.46974808],\n",
       "       [-1.62580285,  0.05994235, -0.01774545],\n",
       "       [ 0.80576177, -0.09452019, -0.46691358],\n",
       "       [-0.41002054, -0.63513911,  0.80849591],\n",
       "       [ 0.80576177, -0.01728892, -0.48343841],\n",
       "       [ 0.80576177, -0.09452019, -0.46391578],\n",
       "       [ 0.80576177, -0.09452019, -0.46974808],\n",
       "       [ 0.80576177,  1.21841146, -0.3394119 ],\n",
       "       [ 0.80576177, -1.02129548,  0.04786783],\n",
       "       [ 0.80576177, -0.78960166, -0.46181033],\n",
       "       [ 0.80576177, -0.48067656, -0.44107264],\n",
       "       [ 0.80576177, -0.40344529, -0.48335676],\n",
       "       [-1.62580285,  2.22241801,  1.58176062],\n",
       "       [ 0.80576177, -1.87083949, -0.24601552],\n",
       "       [-1.62580285,  1.75903037,  1.19731538],\n",
       "       [ 0.80576177,  0.83225509, -0.07801247],\n",
       "       [-1.62580285, -1.40745185,  1.71250117],\n",
       "       [ 0.80576177,  2.76303693, -0.46974808],\n",
       "       [-1.62580285, -0.86683293,  0.9280579 ],\n",
       "       [-0.41002054,  0.2144049 , -0.4162854 ],\n",
       "       [-1.62580285,  1.60456783,  4.19162962],\n",
       "       [-0.41002054,  0.44609872, -0.21215518],\n",
       "       [ 0.80576177, -0.78960166, -0.4672363 ],\n",
       "       [ 0.80576177, -0.63513911, -0.46926205],\n",
       "       [-0.41002054, -1.2529893 , -0.24131664],\n",
       "       [-0.41002054, -0.09452019, -0.11495032],\n",
       "       [-1.62580285, -0.09452019, -0.11640839],\n",
       "       [ 0.80576177, -0.09452019, -0.46974808],\n",
       "       [-0.41002054,  2.14518674, -0.4162854 ],\n",
       "       [-0.41002054, -0.63513911,  0.80849591],\n",
       "       [ 0.80576177, -0.01728892, -0.46731796],\n",
       "       [ 0.80576177, -0.9440642 , -0.47987294],\n",
       "       [-1.62580285,  1.75903037,  0.9011652 ],\n",
       "       [-0.41002054, -0.24898274, -0.11495032],\n",
       "       [-1.62580285, -0.86683293,  4.48040973],\n",
       "       [-1.62580285, -0.24898274, -0.03718642],\n",
       "       [-1.62580285,  0.75502382,  0.99626266],\n",
       "       [ 0.80576177, -0.48067656, -0.46772233],\n",
       "       [ 0.80576177,  0.52332999, -0.31810849],\n",
       "       [ 0.80576177,  0.09855799, -0.46974808],\n",
       "       [-1.62580285, -0.55790784,  0.34191255],\n",
       "       [-0.41002054,  0.67779254, -0.36768297],\n",
       "       [ 0.80576177,  0.90948636, -0.22746495],\n",
       "       [ 0.80576177, -1.02129548,  0.15114801],\n",
       "       [-0.41002054, -0.01728892, -0.4162854 ],\n",
       "       [-1.62580285,  0.83225509,  1.99439528],\n",
       "       [ 0.80576177, -0.09452019, -0.46999109],\n",
       "       [-1.62580285,  2.06795547, -0.02365939],\n",
       "       [-1.62580285,  3.22642457,  0.34199421],\n",
       "       [-1.62580285,  0.13717363,  1.58176062],\n",
       "       [-1.62580285,  0.05994235,  0.48634343],\n",
       "       [-1.62580285,  0.67779254, -0.62041562],\n",
       "       [ 0.80576177, -0.09452019, -0.47946856],\n",
       "       [ 0.80576177, -1.56191439, -0.22138964],\n",
       "       [ 0.80576177, -1.56191439, -0.01239918],\n",
       "       [-1.62580285,  2.45411184,  0.00793219],\n",
       "       [ 0.80576177, -0.09452019, -0.47015245],\n",
       "       [ 0.80576177, -0.09452019, -0.46691358],\n",
       "       [ 0.80576177, -0.09452019, -0.46772233],\n",
       "       [-1.62580285,  1.45010528,  0.39051499],\n",
       "       [ 0.80576177,  1.21841146, -0.46391578],\n",
       "       [-0.41002054,  0.52332999, -0.36768297],\n",
       "       [ 0.80576177, -0.17175147, -0.46691358],\n",
       "       [-1.62580285,  2.68580566, -0.11495032],\n",
       "       [ 0.80576177,  0.44609872, -0.48189869],\n",
       "       [-1.62580285, -0.78960166,  1.15025267],\n",
       "       [ 0.80576177,  0.67779254, -0.48335676],\n",
       "       [ 0.80576177,  0.09855799, -0.46391578],\n",
       "       [ 0.80576177, -0.32621401, -0.46926205],\n",
       "       [-0.41002054,  0.83225509,  0.13778234],\n",
       "       [-1.62580285,  1.372874  ,  0.12806185],\n",
       "       [ 0.80576177,  0.05994235, -0.43572637],\n",
       "       [-1.62580285,  0.83225509, -0.01774545],\n",
       "       [-1.62580285, -0.09452019,  0.39051499],\n",
       "       [ 0.80576177, -0.67375475, -0.47946856],\n",
       "       [-1.62580285, -0.09452019,  1.11185675],\n",
       "       [-1.62580285,  0.52332999, -0.10936104],\n",
       "       [-1.62580285, -0.09452019,  3.69118787],\n",
       "       [ 0.80576177, -0.71237038, -0.42900369],\n",
       "       [-1.62580285,  3.22642457,  0.05329575],\n",
       "       [-0.41002054,  0.52332999, -0.37011309],\n",
       "       [-0.41002054, -0.55790784, -0.0566274 ],\n",
       "       [ 0.80576177,  1.45010528,  0.04786783],\n",
       "       [-0.41002054, -0.48067656, -0.39684443],\n",
       "       [-1.62580285,  0.2144049 ,  0.86276928],\n",
       "       [-1.62580285,  2.60857438,  0.8951696 ],\n",
       "       [-0.41002054, -2.1928939 , -0.0566274 ],\n",
       "       [ 0.80576177, -0.32621401, -0.47946856],\n",
       "       [-1.62580285,  0.44609872, -0.10425778],\n",
       "       [-1.62580285,  1.52733655, -0.11632674],\n",
       "       [-1.62580285, -0.40344529,  0.91930946],\n",
       "       [ 0.80576177, -0.09452019, -0.3393322 ],\n",
       "       [ 0.80576177, -0.63513911, -0.46391578],\n",
       "       [ 0.80576177, -0.09452019, -0.4672363 ],\n",
       "       [ 0.80576177, -0.09452019, -0.32402243],\n",
       "       [-0.41002054, -0.09452019, -0.62041562],\n",
       "       [ 0.80576177, -1.87083949, -0.37788948],\n",
       "       [-1.62580285,  1.52733655,  0.48634343],\n",
       "       [ 0.80576177, -1.09852675, -0.3394119 ],\n",
       "       [-1.62580285, -0.09452019,  1.53526365],\n",
       "       [ 0.80576177, -0.01728892, -0.46926205],\n",
       "       [ 0.80576177,  0.98671764, -0.47363627],\n",
       "       [ 0.80576177, -0.86683293, -0.2743663 ],\n",
       "       [ 0.80576177, -0.63513911, -0.45646406],\n",
       "       [-0.41002054,  1.14118018, -0.11495032],\n",
       "       [-0.41002054, -0.09452019, -0.36768297],\n",
       "       [-0.41002054,  0.60056127, -0.11495032],\n",
       "       [ 0.80576177,  0.75502382, -0.05419727],\n",
       "       [-0.41002054,  0.36886745,  0.01141601],\n",
       "       [-0.41002054,  0.05994235, -0.36768297],\n",
       "       [-0.41002054,  2.8402682 , -0.4162854 ],\n",
       "       [-1.62580285, -0.09452019,  2.22809133],\n",
       "       [ 0.80576177,  1.06394891, -0.46391578],\n",
       "       [ 0.80576177, -0.09452019, -0.45103614],\n",
       "       [ 0.80576177, -0.40344529, -0.47468997],\n",
       "       [ 0.80576177, -0.86683293, -0.46885768],\n",
       "       [ 0.80576177, -0.09452019, -0.15091612],\n",
       "       [ 0.80576177, -0.09452019, -0.46391578],\n",
       "       [ 0.80576177, -0.09452019, -0.48335676],\n",
       "       [ 0.80576177, -0.09452019,  0.47791772],\n",
       "       [ 0.80576177, -0.09452019, -0.46901904],\n",
       "       [-0.41002054,  0.52332999, -0.11495032],\n",
       "       [ 0.80576177,  0.2144049 , -0.31908053],\n",
       "       [ 0.80576177, -0.44206093, -0.47987294],\n",
       "       [-1.62580285, -0.09452019, -0.10425778],\n",
       "       [-0.41002054,  0.75502382, -0.36768297],\n",
       "       [-1.62580285, -0.09452019,  0.9770647 ],\n",
       "       [ 0.80576177, -0.09452019, -0.45597804],\n",
       "       [-1.62580285,  2.76303693,  0.58452035],\n",
       "       [-0.41002054, -0.48067656, -0.4162854 ],\n",
       "       [-1.62580285, -0.09452019,  0.38784185],\n",
       "       [ 0.80576177, -0.55790784, -0.46691358],\n",
       "       [ 0.80576177,  0.44609872, -0.48335676],\n",
       "       [-1.62580285, -0.48067656,  0.61133139],\n",
       "       [-0.41002054, -0.86683293, -0.36768297],\n",
       "       [-1.62580285,  0.52332999, -0.10741694],\n",
       "       [ 0.80576177, -1.56191439, -0.32402243],\n",
       "       [ 0.80576177, -0.9440642 , -0.48189869],\n",
       "       [ 0.80576177, -0.09452019, -0.47995459],\n",
       "       [ 0.80576177,  0.67779254, -0.01021207],\n",
       "       [-0.41002054, -0.9440642 , -0.4162854 ],\n",
       "       [ 0.80576177, -1.94807076, -0.29575137],\n",
       "       [-1.62580285,  1.25702709, -0.06634788],\n",
       "       [-0.41002054, -0.48067656, -0.36768297],\n",
       "       [ 0.80576177,  0.2144049 , -0.46634591],\n",
       "       [ 0.80576177, -0.24898274, -0.46772233],\n",
       "       [ 0.80576177, -1.79360821, -0.01239918],\n",
       "       [-1.62580285, -0.40344529,  4.19162962],\n",
       "       [-1.62580285,  1.21841146, -0.10425778],\n",
       "       [-0.41002054, -0.01728892, -0.08149629],\n",
       "       [ 0.80576177, -0.09452019, -0.46691358],\n",
       "       [-1.62580285, -0.09452019,  0.06973893],\n",
       "       [-0.41002054,  0.98671764, -0.36768297],\n",
       "       [ 0.80576177,  0.52332999, -0.15091612],\n",
       "       [-0.41002054,  0.29163617, -0.38177767],\n",
       "       [ 0.80576177, -0.9440642 , -0.48327511],\n",
       "       [ 0.80576177, -0.01728892, -0.43572637],\n",
       "       [-0.41002054,  1.60456783, -0.11495032],\n",
       "       [-1.62580285,  0.44609872,  1.12927197],\n",
       "       [-1.62580285,  0.67779254,  3.80289181],\n",
       "       [-0.41002054,  0.36886745, -0.36768297],\n",
       "       [-1.62580285, -0.9440642 ,  0.48771985],\n",
       "       [ 0.80576177, -1.40745185, -0.01239918],\n",
       "       [ 0.80576177,  2.45411184, -0.49915255],\n",
       "       [ 0.80576177,  0.05994235, -0.45200819],\n",
       "       [-0.41002054, -1.71637694, -0.11009007],\n",
       "       [ 0.80576177,  2.60857438, -0.43402529],\n",
       "       [ 0.80576177, -0.71237038, -0.47987294],\n",
       "       [ 0.80576177, -0.09452019, -0.18574851],\n",
       "       [ 0.80576177, -0.01728892, -0.43605104],\n",
       "       [-1.62580285,  0.52332999,  1.71250117],\n",
       "       [ 0.80576177, -0.09452019, -0.3393322 ],\n",
       "       [ 0.80576177,  1.60456783, -0.46391578],\n",
       "       [-1.62580285, -0.17175147,  3.49135022],\n",
       "       [ 0.80576177,  0.05994235, -0.47946856],\n",
       "       [-1.62580285,  0.29163617,  1.12927197],\n",
       "       [ 0.80576177, -0.09452019, -0.4702341 ],\n",
       "       [ 0.80576177, -0.09452019, -0.12531819],\n",
       "       [ 0.80576177, -2.10253331, -0.21069711],\n",
       "       [-0.41002054, -0.32621401, -0.03718642],\n",
       "       [-1.62580285,  1.6817991 ,  0.57285576],\n",
       "       [-0.41002054, -0.32621401, -0.11495032],\n",
       "       [ 0.80576177, -0.09452019, -0.47946856],\n",
       "       [ 0.80576177, -0.09452019, -0.46691358],\n",
       "       [-0.41002054, -0.40344529, -0.36768297],\n",
       "       [ 0.80576177, -0.86683293, -0.22746495],\n",
       "       [-1.62580285, -0.09452019, -0.02746594],\n",
       "       [ 0.80576177, -0.32621401, -0.48335676],\n",
       "       [-0.41002054, -0.40344529, -0.33852151],\n",
       "       [ 0.80576177, -0.55790784, -0.47420395],\n",
       "       [-1.62580285, -2.18594308,  2.32586387],\n",
       "       [-0.41002054, -0.40344529, -0.11495032],\n",
       "       [ 0.80576177, -0.24898274, -0.46634591],\n",
       "       [-0.41002054,  0.36886745, -0.21215518],\n",
       "       [-1.62580285, -0.63513911,  4.48040973],\n",
       "       [ 0.80576177, -0.09452019, -0.46974808],\n",
       "       [ 0.80576177, -0.09452019, -0.47987294],\n",
       "       [ 0.80576177, -0.09452019, -0.45200819],\n",
       "       [ 0.80576177, -0.55790784, -0.46926205],\n",
       "       [-1.62580285,  2.53134311,  0.93486224],\n",
       "       [ 0.80576177, -0.86683293, -0.42908339],\n",
       "       [-1.62580285,  0.98671764,  3.80289181],\n",
       "       [-0.41002054,  2.14518674, -0.3803196 ],\n",
       "       [ 0.80576177, -0.78960166, -0.62041562],\n",
       "       [-0.41002054,  0.98671764, -0.11495032],\n",
       "       [ 0.80576177, -0.09452019, -0.47995459],\n",
       "       [ 0.80576177, -0.71237038, -0.45200819],\n",
       "       [ 0.80576177,  0.40748308, -0.49526435],\n",
       "       [ 0.80576177, -0.09452019, -0.43572637],\n",
       "       [ 0.80576177, -0.09452019, -0.46391578],\n",
       "       [ 0.80576177, -0.48067656, -0.46691358],\n",
       "       [ 0.80576177, -0.55790784, -0.47946856],\n",
       "       [-1.62580285,  1.75903037, -0.02746594],\n",
       "       [ 0.80576177,  0.05994235, -0.37788948],\n",
       "       [-0.41002054,  0.56194563, -0.11495032],\n",
       "       [ 0.80576177, -0.09452019, -0.46974808],\n",
       "       [ 0.80576177, -0.55790784, -0.47987294],\n",
       "       [-1.62580285,  1.60456783,  1.97787045],\n",
       "       [ 0.80576177, -0.17175147, -0.48481483],\n",
       "       [ 0.80576177, -0.55790784, -0.46391578],\n",
       "       [-1.62580285,  1.6817991 ,  0.8951696 ],\n",
       "       [-0.41002054,  0.52332999, -0.4162854 ],\n",
       "       [-0.41002054, -0.01728892, -0.11495032],\n",
       "       [-1.62580285, -0.55790784,  2.32586387],\n",
       "       [-1.62580285,  1.60456783,  1.44858996],\n",
       "       [-0.41002054,  0.83225509, -0.36768297],\n",
       "       [ 0.80576177, -0.17175147, -0.45200819],\n",
       "       [-1.62580285, -0.09452019, -0.62041562],\n",
       "       [-1.62580285,  2.76303693, -0.10425778],\n",
       "       [ 0.80576177, -0.9440642 , -0.45200819],\n",
       "       [-1.62580285, -0.09452019, -0.10425778],\n",
       "       [-1.62580285, -1.94807076,  0.9709894 ],\n",
       "       [ 0.80576177, -0.09452019, -0.46691358],\n",
       "       [ 0.80576177, -2.17976458, -0.40397343],\n",
       "       [-0.41002054,  0.52332999, -0.08092861],\n",
       "       [-0.41002054,  1.06394891, -0.11009007],\n",
       "       [-1.62580285,  0.67779254,  2.36304473],\n",
       "       [-0.41002054,  0.13717363, -0.11009007],\n",
       "       [ 0.80576177, -0.01728892, -0.46391578],\n",
       "       [ 0.80576177, -0.86683293, -0.45905554],\n",
       "       [-0.41002054, -0.09452019, -0.32782897],\n",
       "       [-1.62580285,  0.75502382,  1.53526365],\n",
       "       [-0.41002054,  0.75502382, -0.36768297],\n",
       "       [ 0.80576177, -0.24898274, -0.45200819],\n",
       "       [ 0.80576177, -0.71237038, -0.48335676],\n",
       "       [-1.62580285, -0.09452019,  1.97787045],\n",
       "       [ 0.80576177,  1.52733655, -0.62041562],\n",
       "       [-0.41002054, -0.48067656, -0.32791062],\n",
       "       [ 0.80576177, -2.17976458,  0.15114801],\n",
       "       [ 0.80576177, -0.09452019, -0.4672363 ],\n",
       "       [ 0.80576177, -0.09452019, -0.1645248 ],\n",
       "       [-0.41002054, -2.02530203, -0.11495032],\n",
       "       [ 0.80576177, -1.94807076, -0.40397343],\n",
       "       [ 0.80576177, -0.78960166, -0.47169217],\n",
       "       [ 0.80576177,  0.87087073, -0.46974808],\n",
       "       [ 0.80576177, -2.17976458, -0.31438165],\n",
       "       [ 0.80576177, -0.09452019, -0.32402243],\n",
       "       [ 0.80576177, -0.63513911, -0.46634591]])"
      ]
     },
     "execution_count": 23,
     "metadata": {},
     "output_type": "execute_result"
    }
   ],
   "source": [
    "x_test_scaled"
   ]
  },
  {
   "cell_type": "code",
   "execution_count": 24,
   "id": "bca15e0e",
   "metadata": {},
   "outputs": [],
   "source": [
    "### Model Building\n",
    "## fit() for training and predict for test"
   ]
  },
  {
   "cell_type": "markdown",
   "id": "5856c2a8",
   "metadata": {},
   "source": [
    "### Algorithm starts :"
   ]
  },
  {
   "cell_type": "code",
   "execution_count": 25,
   "id": "17bd172d",
   "metadata": {},
   "outputs": [],
   "source": [
    "from sklearn.linear_model import LogisticRegression\n",
    "classification=LogisticRegression()"
   ]
  },
  {
   "cell_type": "code",
   "execution_count": 26,
   "id": "09803e4c",
   "metadata": {},
   "outputs": [
    {
     "data": {
      "text/plain": [
       "LogisticRegression()"
      ]
     },
     "execution_count": 26,
     "metadata": {},
     "output_type": "execute_result"
    }
   ],
   "source": [
    "classification.fit(x_train_scaled,y_train)"
   ]
  },
  {
   "cell_type": "code",
   "execution_count": 27,
   "id": "291b2a78",
   "metadata": {},
   "outputs": [],
   "source": [
    "pred=classification.predict(x_test_scaled) #Machine prediction on testing data"
   ]
  },
  {
   "cell_type": "code",
   "execution_count": 28,
   "id": "40908a10",
   "metadata": {
    "scrolled": true
   },
   "outputs": [
    {
     "data": {
      "text/plain": [
       "array([0, 0, 0, 1, 0, 1, 0, 0, 0, 1, 1, 0, 0, 0, 0, 1, 1, 0, 0, 1, 0, 1,\n",
       "       0, 0, 0, 0, 1, 0, 0, 0, 0, 0, 1, 0, 0, 0, 1, 0, 1, 0, 1, 0, 0, 0,\n",
       "       0, 0, 0, 0, 0, 1, 0, 1, 0, 1, 0, 1, 0, 1, 0, 0, 0, 1, 0, 1, 0, 0,\n",
       "       1, 0, 0, 1, 0, 1, 1, 1, 0, 0, 0, 1, 0, 0, 0, 0, 1, 0, 0, 0, 1, 1,\n",
       "       1, 0, 0, 0, 0, 0, 0, 0, 1, 0, 0, 0, 0, 0, 1, 0, 0, 0, 0, 1, 0, 1,\n",
       "       1, 0, 1, 1, 1, 0, 0, 0, 0, 0, 0, 1, 0, 1, 0, 1, 0, 1, 0, 0, 0, 0,\n",
       "       0, 0, 1, 0, 1, 0, 0, 0, 0, 0, 0, 0, 0, 0, 0, 0, 1, 0, 0, 0, 0, 0,\n",
       "       0, 0, 0, 0, 0, 0, 0, 1, 0, 1, 0, 0, 0, 1, 0, 0, 1, 0, 1, 0, 0, 0,\n",
       "       0, 0, 0, 1, 0, 0, 0, 0, 1, 1, 0, 0, 1, 0, 0, 0, 0, 0, 0, 1, 1, 0,\n",
       "       1, 0, 0, 0, 1, 0, 0, 0, 0, 1, 0, 0, 1, 0, 1, 0, 0, 0, 0, 1, 0, 0,\n",
       "       0, 0, 0, 1, 0, 0, 0, 1, 0, 0, 0, 1, 0, 0, 0, 0, 0, 0, 1, 0, 0, 0,\n",
       "       0, 0, 0, 0, 0, 0, 0, 0, 0, 0, 0, 0, 1, 0, 0, 1, 0, 0, 1, 1, 0, 0,\n",
       "       1, 0, 0, 1, 1, 0, 0, 0, 0, 1, 0, 0, 0, 0, 1, 0, 0, 0, 1, 0, 0, 0,\n",
       "       0, 0, 1, 0, 0, 0, 0, 0, 0], dtype=int64)"
      ]
     },
     "execution_count": 28,
     "metadata": {},
     "output_type": "execute_result"
    }
   ],
   "source": [
    "pred"
   ]
  },
  {
   "cell_type": "code",
   "execution_count": 29,
   "id": "3add8de6",
   "metadata": {},
   "outputs": [
    {
     "name": "stdout",
     "output_type": "stream",
     "text": [
      "              precision    recall  f1-score   support\n",
      "\n",
      "           0       0.89      0.71      0.79       218\n",
      "           1       0.47      0.74      0.58        77\n",
      "\n",
      "    accuracy                           0.72       295\n",
      "   macro avg       0.68      0.73      0.68       295\n",
      "weighted avg       0.78      0.72      0.73       295\n",
      "\n"
     ]
    }
   ],
   "source": [
    "#Printing the classification report\n",
    "\n",
    "from sklearn import metrics\n",
    "print(metrics.classification_report(pred,y_test))"
   ]
  },
  {
   "cell_type": "code",
   "execution_count": null,
   "id": "56dac3dd",
   "metadata": {},
   "outputs": [],
   "source": []
  }
 ],
 "metadata": {
  "kernelspec": {
   "display_name": "Python 3 (ipykernel)",
   "language": "python",
   "name": "python3"
  },
  "language_info": {
   "codemirror_mode": {
    "name": "ipython",
    "version": 3
   },
   "file_extension": ".py",
   "mimetype": "text/x-python",
   "name": "python",
   "nbconvert_exporter": "python",
   "pygments_lexer": "ipython3",
   "version": "3.9.4"
  }
 },
 "nbformat": 4,
 "nbformat_minor": 5
}
